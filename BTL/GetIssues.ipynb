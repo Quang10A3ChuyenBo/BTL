{
 "cells": [
  {
   "cell_type": "code",
   "execution_count": null,
   "id": "f3b605d3-147c-4af6-a76c-e4371304c5e5",
   "metadata": {},
   "outputs": [],
   "source": [
    "import requests\n",
    "import csv\n",
    "from datetime import datetime"
   ]
  },
  {
   "cell_type": "code",
   "execution_count": null,
   "id": "05e23c6e-d08f-4dac-a126-af73549a8bb6",
   "metadata": {},
   "outputs": [],
   "source": [
    "# Khởi tạo biến\n",
    "start_date = '2023-01-01T00:00:00Z'\n",
    "end_date = datetime.now().strftime('%Y-%m-%dT%H:%M:%SZ')\n",
    "issues_data = []"
   ]
  },
  {
   "cell_type": "code",
   "execution_count": null,
   "id": "7db81e76-d2f0-42bc-98cc-53c39cc6e7ca",
   "metadata": {},
   "outputs": [],
   "source": [
    "# Lấy thông tin vấn đề từ 50 trang đầu tiên\n",
    "for page_num in range(1, 51):\n",
    "    github_api_url = f'https://api.github.com/repos/opencv/opencv/issues?page={page_num}&per_page=100'\n",
    "    response = requests.get(github_api_url)\n",
    "    \n",
    "    if response.status_code == 200:\n",
    "        issues = response.json()\n",
    "        issues_data.extend(issues)\n",
    "    else:\n",
    "        print(f'Failed to retrieve data from page {page_num}')\n",
    "        continue"
   ]
  },
  {
   "cell_type": "code",
   "execution_count": null,
   "id": "c8fd9fe8",
   "metadata": {},
   "outputs": [],
   "source": []
  },
  {
   "cell_type": "code",
   "execution_count": null,
   "id": "f912ba1d",
   "metadata": {},
   "outputs": [],
   "source": [
    "# Ghi thông tin vào file CSV\n",
    "with open('issues.csv', mode='w', newline='', encoding='utf-8') as file:\n",
    "    writer = csv.writer(file)\n",
    "    writer.writerow([\"Name\", \"Error Type\", \"Error Version\", \"Date Appear\", \"Solve Date\"])\n",
    "\n",
    "    for issue in issues_data:\n",
    "        issue_name = issue['title']\n",
    "        error_type = issue['labels'][0]['name'] if issue['labels'] else 'Uncategorized'\n",
    "        error_version = issue['milestone']['title'] if issue['milestone'] else 'Not specified'\n",
    "        date_appear = issue['created_at']\n",
    "        solve_date = issue['closed_at'] if issue['closed_at'] else 'Unsolved'\n",
    "\n",
    "        # Check if the issue falls within the specified date range\n",
    "        if start_date <= date_appear <= end_date:\n",
    "            writer.writerow([issue_name, error_type, error_version, date_appear, solve_date])\n",
    "\n",
    "print('Data has been successfully exported to issues.csv')"
   ]
  }
 ],
 "metadata": {
  "kernelspec": {
   "display_name": "Python 3 (ipykernel)",
   "language": "python",
   "name": "python3"
  },
  "language_info": {
   "codemirror_mode": {
    "name": "ipython",
    "version": 3
   },
   "file_extension": ".py",
   "mimetype": "text/x-python",
   "name": "python",
   "nbconvert_exporter": "python",
   "pygments_lexer": "ipython3",
   "version": "3.11.9"
  }
 },
 "nbformat": 4,
 "nbformat_minor": 5
}
