{
 "cells": [
  {
   "cell_type": "code",
   "execution_count": 9,
   "id": "97d4d7ef-e84e-46d2-8ac5-485b23aa87fd",
   "metadata": {},
   "outputs": [],
   "source": [
    "import pandas as pd\n",
    "from collections import Counter"
   ]
  },
  {
   "cell_type": "code",
   "execution_count": 10,
   "id": "6e1dee5f-1216-4527-abd0-a89add2e8513",
   "metadata": {},
   "outputs": [],
   "source": [
    "# Đọc dữ liệu từ file CSV\n",
    "df = pd.read_csv('issuesClose.csv')"
   ]
  },
  {
   "cell_type": "code",
   "execution_count": 11,
   "id": "5445034f-042b-42b0-82ba-7241d8d6e8af",
   "metadata": {},
   "outputs": [],
   "source": [
    "# Chuyển đổi cột 'Solve Date' thành datetime\n",
    "df['Solve Date'] = pd.to_datetime(df['Solve Date'])"
   ]
  },
  {
   "cell_type": "code",
   "execution_count": 12,
   "id": "7bb2a012-e5e5-4051-9480-ebe9de6fbf91",
   "metadata": {},
   "outputs": [],
   "source": [
    "# Lọc ra các issues được giải quyết trong năm 2023\n",
    "df_2023 = df[df['Solve Date'].dt.year == 2023]"
   ]
  },
  {
   "cell_type": "code",
   "execution_count": 13,
   "id": "27b4f08c-a19e-483a-92f0-2c790c47917b",
   "metadata": {},
   "outputs": [
    {
     "name": "stdout",
     "output_type": "stream",
     "text": [
      "Author\n",
      "asmorkalov        135\n",
      "dkurt              58\n",
      "fengyuentau        55\n",
      "LaurentBerger      44\n",
      "mshabunin          34\n",
      "vrabaud            29\n",
      "zihaomu            28\n",
      "opencv-alalek      26\n",
      "Abdurrahheem       24\n",
      "AleksandrPanov     24\n",
      "Name: count, dtype: int64\n"
     ]
    }
   ],
   "source": [
    "# Tính số lượng issues mỗi người đã sửa trong năm 2023\n",
    "authors_counts = df_2023['Author'].value_counts()\n",
    "\n",
    "# Lấy top 10 người đã sửa được nhiều issues nhất\n",
    "top_authors_2023 = authors_counts.head(10)\n",
    "\n",
    "# In kết quả\n",
    "print(top_authors_2023)"
   ]
  }
 ],
 "metadata": {
  "kernelspec": {
   "display_name": "Python 3 (ipykernel)",
   "language": "python",
   "name": "python3"
  },
  "language_info": {
   "codemirror_mode": {
    "name": "ipython",
    "version": 3
   },
   "file_extension": ".py",
   "mimetype": "text/x-python",
   "name": "python",
   "nbconvert_exporter": "python",
   "pygments_lexer": "ipython3",
   "version": "3.11.9"
  }
 },
 "nbformat": 4,
 "nbformat_minor": 5
}
